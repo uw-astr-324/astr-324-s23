{
 "cells": [
  {
   "cell_type": "markdown",
   "metadata": {
    "slideshow": {
     "slide_type": "slide"
    }
   },
   "source": [
    "# Maximum Likelihood and Applications in Astronomy, Part I\n",
    "\n",
    "M. Juric (with material from G. Richards 2016, Ivezic [Sections 4.0, 4.1, 4.2.1-6, 4.3], Bevington, and Leighly)."
   ]
  },
  {
   "cell_type": "markdown",
   "metadata": {
    "slideshow": {
     "slide_type": "slide"
    }
   },
   "source": [
    "## Statistical Modeling\n",
    "\n",
    "A statistical model is a mathematical model that captures assumptions about hown the data were generated (i.e., both the physical and the measurement process that generated them).\n",
    "\n",
    "It is a formal (quantitative) representation of the theory.\n",
    "\n",
    "Example: the data below follow a linear x-y relationship ($y_{true}(x) = ax+b$) and are measured by an instrument that adds some random, Gaussian, error (i.e. $y = y_{true}(x) + r$, where $r$ has been drawn from $N(0, \\sigma)$). The parameters of this model would be $a, b$, and $\\sigma$.\n",
    "\n",
    "Astronomical example: imagine time is $x_1$ below, $y$ is a star's flux, and $\\sigma$ is the error in flux estimate. The parameters $a$ and $b$ would correspond to the rate of change of flux with time, and the flux at $t=0$, respectivelly.\n",
    "\n",
    "![SlideGrab](figures/AnscombeQuartet.jpg)"
   ]
  },
  {
   "cell_type": "markdown",
   "metadata": {
    "slideshow": {
     "slide_type": "slide"
    }
   },
   "source": [
    "## Statistical Inference\n",
    "\n",
    "Statistical *inference* is about drawing conclusions from data, specifically determining the properties of a population by data sampling.\n",
    "\n",
    "Three examples of inference are:\n",
    "1. What is the best estimate for a model parameter?\n",
    "2. How confident we are about the obtained value?\n",
    "3. Is the particular model/hypothesis consistent with the data?"
   ]
  },
  {
   "cell_type": "markdown",
   "metadata": {
    "slideshow": {
     "slide_type": "slide"
    }
   },
   "source": [
    "## Statistical Inference Process\n",
    "\n",
    "We can break down the inference process (loop) into a few somewhat overlapping conceptual steps:\n",
    "\n",
    "1. **Hypothesis**: Formulate a model, a *hypothesis*, about how the data are generated. For example, this could be a statement that the data are a measurement of some quantity that come with Gaussian random errors (i.e., each measurement is equal to the true value, plus a deviation randomly drawn from the normal distribution). Models are typically written as an equation parametrized by a set of model parameters $\\boldsymbol{\\theta}$, denoted as $\\boldsymbol{M}(\\boldsymbol{\\theta})$. Note that both $\\boldsymbol{\\theta}$ and/or $\\boldsymbol{M}$ can be vectors (e.g. for a simple one-dimensional $y(x)$ linear dependence, $\\boldsymbol{\\theta} = \\{a, b\\}$ and $\\boldsymbol{M} = \\{ y \\}$.\n",
    "2. **Parameter Estimation**: Search for the \"best\" model parameters $\\boldsymbol{\\theta}$, usually by maximizing or minimizing a particular objective function (more soon).\n",
    "3. **Quantifying Estimate Uncertainty**: Determine what uncertainty remains about the values of model parameters -- the confidence region for model.\n",
    "4. **Hypothesis Testing**: Test whether our hypothesis $\\boldsymbol{M}(\\boldsymbol{\\theta})$ can be ruled out by the data (does the data (not) fit?). Possibly GOTO #1.\n",
    "\n",
    "These steps represent a blueprint for the frequentist approach in general. The **likelihood** (to be introduced soon) is just one of many possible so-called objective functions (also called fitness functions, or cost functions); other possibilities are explored briefly in §4.2.8 of the textbook."
   ]
  },
  {
   "cell_type": "markdown",
   "metadata": {
    "slideshow": {
     "slide_type": "subslide"
    }
   },
   "source": [
    "## Some Terminology\n",
    "\n",
    "* We typically study the properties of some ***population*** by measuring ***samples*** from that population. The population doesn't have to refer to different objects. E.g., we may be (re)measuring the position of an object at rest; the population is the (imagined) distribution of an infinite number of measurements smeared by the error, and the sample are the measurement we've actually taken.\n",
    "* A ***statistic*** is any function of the sample. For example, the sample mean is a statistic. But also, \"the value of the first measurement\" is also a statistic (though not a particularly good one!).\n",
    "* To conclude something about the population from the sample, we develop ***estimators***. An estimator is any statistic used as a rule for calculating an estimate of a given quantity based on the observed data: thus the rule (the *estimator*), the quantity of interest (the *estimand*) and its result (the *estimate*) can be distinguished. Sometimes *estimator* and the *estimate* are used interchangeably in everyday (scientific) language. Much of frequentist statistics concerns itself with development of different estimation rules -- different estimators -- and proving their properties.\n",
    "* There are ***point*** and ***interval estimators***. The point estimators yield single-valued results (example: the position of an object), while with an interval estimator, the result would be a range of plausible values (example: confidence interval for the position of an object)."
   ]
  },
  {
   "cell_type": "markdown",
   "metadata": {
    "slideshow": {
     "slide_type": "slide"
    }
   },
   "source": [
    "## Motivating Example: Measuring the Position of a Quasar\n",
    "\n",
    "Let's assume we wish to estimate the true position $x_{true} \\equiv \\mu_{true}$ of a quasar from a series of astrometric measurements $\\{ x_i \\}$. For simplicity, we look at a simplified 1D case (a single coordinate).\n",
    "\n",
    "1. We adopt a hypothesis (model) where a) the observed quasar does not move, and b) individual measurement errors are drawn from a normal (Gaussian) distribution.\n",
    "2. We derive the expression for the likelihood of there being a quasar at some position $x = \\mu$ that gives rise to our individual measurements $\\{x_i\\}$. We find the value of $\\hat \\mu$ for which our observations are maximally likely (maximize the likelihood function).\n",
    "3. We determine the error bars (confidence intervals) on our measurement.\n",
    "4. We test whether what we've observed is consistent with our adopted model. For example, is it possible that the quasar was really a misidentified star with measurable proper motion?\n"
   ]
  },
  {
   "cell_type": "markdown",
   "metadata": {
    "slideshow": {
     "slide_type": "slide"
    }
   },
   "source": [
    "### The Probability of Obtaining a Particular Measurement\n",
    "\n",
    "As our measurement errors are Gaussian, the probability density of each measurement (assuming the quasar's true location is $\\mu$, and the precision of our apparatus is $\\sigma$) is given by:\n",
    "\n",
    "$$p(x \\mid \\boldsymbol{M(\\theta)}) = p(x|\\mu + N(0, \\sigma)) = p(x|\\mu,\\sigma) = \\frac{1}{\\sigma\\sqrt{2\\pi}} \\exp\\left(\\frac{-(x-\\mu)^2}{2\\sigma^2}\\right).$$\n",
    "\n",
    "This is the probability of a measurement being between $x, x+dx$ given the model parameter values $\\mu, \\sigma$.\n",
    "\n",
    "Note the notational sloppiness in the second equality sign above, where we dropped $N()$: it's typical to just name the parameters when writing out PDFs, and leave the mathematical details of the model implied from the context.\n",
    "\n",
    "Here's a visualization with $\\mu = 5$, and $\\sigma = 1$:"
   ]
  },
  {
   "cell_type": "code",
   "execution_count": 1,
   "metadata": {
    "slideshow": {
     "slide_type": "-"
    }
   },
   "outputs": [
    {
     "data": {
      "image/png": "[encoded data removed]",
      "text/plain": [
       "<Figure size 720x540 with 1 Axes>"
      ]
     },
     "metadata": {
      "needs_background": "light"
     },
     "output_type": "display_data"
    }
   ],
   "source": [
    "# Execute this cell\n",
    "%matplotlib inline\n",
    "import numpy as np\n",
    "from scipy.stats import norm\n",
    "from matplotlib import pyplot as plt\n",
    "\n",
    "from astroML.plotting import setup_text_plots\n",
    "setup_text_plots(fontsize=15, usetex=False)\n",
    "\n",
    "#------------------------------------------------------------\n",
    "# plot the distributions\n",
    "fig, ax = plt.subplots(figsize=(10, 7.5))\n",
    "dist = norm(5, 1)\n",
    "x = np.linspace(0, 10, 1000)\n",
    "plt.plot(x, dist.pdf(x), c='black',label=r'$\\mu=5,\\ \\sigma=1$')\n",
    "\n",
    "plt.xlim(0, 10)\n",
    "plt.ylim(0, 0.5)\n",
    "\n",
    "plt.xlabel('$x$')\n",
    "plt.ylabel(r'$p(x|\\mu=5,\\sigma=1)$')\n",
    "plt.title('Probability of $x$')\n",
    "\n",
    "plt.legend();"
   ]
  },
  {
   "cell_type": "markdown",
   "metadata": {
    "slideshow": {
     "slide_type": "slide"
    }
   },
   "source": [
    "### The Probability of the Dataset (of the Sample)\n",
    "\n",
    "But we (usually) have more than one measurement -- a set of measurements, ${x_i}$.\n",
    "\n",
    "If we want to know the *joint* probability of obtaining that entire set, we compute the *product* of all the individual probabilities:\n",
    "\n",
    "$$p(\\{x_i\\}|\\boldsymbol{M(\\theta)}) = \\prod_{i=1}^n p(x_i|\\boldsymbol{M(\\theta)}),$$\n",
    "\n",
    "Why? Because for independent events (and we assume the results of individual measurements are independent), the joint probability is simply the product of individual probabilities -- i.e., $p(A, B) = p(A)p(B)$."
   ]
  },
  {
   "cell_type": "markdown",
   "metadata": {
    "slideshow": {
     "slide_type": "slide"
    }
   },
   "source": [
    "For our quasar-with-Gaussian-errors example, this equates to:\n",
    "\n",
    "$$p(\\{x_i\\}|N(\\mu, \\sigma)) = \\prod_{i=1}^n \\frac{1}{\\sigma\\sqrt{2\\pi}} \\exp\\left(-\\frac{(x_i-\\mu)^2}{2\\sigma^2}\\right),$$\n",
    "\n",
    "which we can rewrite as:\n",
    "\n",
    "$$p(\\{x_i\\}|N(\\mu, \\sigma)) = \\left( \\prod_{i=1}^n \\frac{1}{\\sigma\\sqrt{2\\pi}} \\right) \\exp\\left( -\\frac{1}{2} \\sum \\left[\\frac{(x_i-\\mu)}{\\sigma} \\right]^2 \\right),$$\n",
    "\n",
    "where we have written the product of the exponentials as the exponential of the sum of the arguments."
   ]
  },
  {
   "cell_type": "markdown",
   "metadata": {
    "slideshow": {
     "slide_type": "slide"
    }
   },
   "source": [
    "## Introducing Maximum Likelihood Estimation (MLE)\n",
    "\n",
    "We now have a way to compute the joint probability to obtain a set of measurements $\\{x_i\\}$ if the quasar's true position is known to be $\\mu$, and the measurement apparatus' precision was $\\sigma$:\n",
    "\n",
    "$$p(\\{x_i\\}|N(\\mu, \\sigma))$$\n",
    "\n",
    "But our situation is the reverse: it's the data that are known, and we want to estimate the parameters, $\\mu$ and $\\sigma$. So we come to an idea: ***let us vary and pick the values of $\\mu$ and $\\sigma$ that result in the largest probability that the dataset $\\{ x_i \\}$ would be measured***. Intuitively that makes sense (and mathematically it can be shown that this leads to estimators with many good properties).\n",
    "\n",
    "In other words, we take the expression above, and now **think of the data as fixed**, and it being a ***function of the unknown model parameters***:\n",
    "\n",
    "$$L(\\mu, \\sigma) \\equiv p(\\{x_i\\}|N(\\mu, \\sigma))$$\n",
    "\n",
    "or, more generally:\n",
    "\n",
    "$$L(\\boldsymbol \\theta) \\equiv p(\\boldsymbol D|M(\\boldsymbol \\theta))$$\n",
    "\n",
    "and ***find the value of $\\boldsymbol \\theta$ that maximizes $L$***:\n",
    "\n",
    "$$\\underset{\\boldsymbol{\\theta}_{ML}}{\\max}\\,\\,  L(\\boldsymbol{\\theta}) \\equiv p(\\boldsymbol D|M(\\boldsymbol \\theta)) $$\n",
    "\n",
    "Those will be our **maximum likelihood estimates (MLEs)** for the true values of the particular model. In the notation above, $D$ stands for the set of collected data.\n",
    "\n",
    "(note: this is $\\S 4.2$ in the textbook)."
   ]
  },
  {
   "cell_type": "markdown",
   "metadata": {
    "slideshow": {
     "slide_type": "slide"
    }
   },
   "source": [
    "## Quasar example (w. known, homoscedastic, measurement errors)\n",
    "\n",
    "We've already assumed in our problem that the precision of our instrument is always the same (we used the same $\\sigma$). This is known as the measurement having **homoscedastic errors** -- errors drawn from the same distribution with fixed parameters. Note this does not mean the individual errors are the same -- just that they've been drawn from the same distribution.\n",
    "\n",
    "We'll next further simplify our example by assuming the precision of our instrument is also a-priori known. This makes the math easier, but results will generalize.\n",
    "\n",
    "Therefore, we now have only one unknown parameter in our model, the true position of the quasar $\\mu$:\n",
    "\n",
    "$$L(\\mu) = \\prod_{i=1}^N \\frac{1}{\\sigma\\sqrt{2\\pi}} \\exp\\left(\\frac{-(x_i-\\mu)^2}{2\\sigma^2}\\right).$$\n",
    "\n",
    "."
   ]
  },
  {
   "cell_type": "markdown",
   "metadata": {
    "slideshow": {
     "slide_type": "slide"
    }
   },
   "source": [
    "## Visualizing this\n",
    "\n",
    "Let's simulate 150 measurements ${x_i}$ drawn from a Gaussian with $\\mu = 5$ (quasar position) and $\\sigma = 1$ (measurement error), and draw the histogram of measurements:"
   ]
  },
  {
   "cell_type": "code",
   "execution_count": 2,
   "metadata": {},
   "outputs": [
    {
     "data": {
      "image/png": "[encoded data removed]",
      "text/plain": [
       "<Figure size 864x540 with 1 Axes>"
      ]
     },
     "metadata": {
      "needs_background": "light"
     },
     "output_type": "display_data"
    }
   ],
   "source": [
    "# Execute this cell\n",
    "%matplotlib inline\n",
    "import numpy as np\n",
    "from scipy.stats import norm\n",
    "from matplotlib import pyplot as plt\n",
    "\n",
    "from astroML.plotting import setup_text_plots\n",
    "setup_text_plots(fontsize=15, usetex=False)\n",
    "\n",
    "#------------------------------------------------------------\n",
    "np.random.seed(seed=42)\n",
    "Nsamples=150\n",
    "mu_true = 5.\n",
    "measurements = np.random.normal(mu_true, 1, Nsamples)\n",
    "\n",
    "fig, ax = plt.subplots(figsize=(12, 7.5))\n",
    "ax.hist(measurements, bins='fd');"
   ]
  },
  {
   "cell_type": "markdown",
   "metadata": {
    "slideshow": {
     "slide_type": "slide"
    }
   },
   "source": [
    "Now overplot and eyeball the model for some value of $\\mu$. Does it seem like a \"good fit\"?"
   ]
  },
  {
   "cell_type": "code",
   "execution_count": 3,
   "metadata": {
    "slideshow": {
     "slide_type": "-"
    }
   },
   "outputs": [
    {
     "data": {
      "image/png": "[encoded data removed]",
      "text/plain": [
       "<Figure size 864x540 with 1 Axes>"
      ]
     },
     "metadata": {
      "needs_background": "light"
     },
     "output_type": "display_data"
    }
   ],
   "source": [
    "def overplot_model(mu):\n",
    "    fig, ax = plt.subplots(figsize=(12, 7.5))\n",
    "\n",
    "    ax.hist(measurements, bins='fd', density=True);\n",
    "    x = np.linspace(2, 8, 1000)\n",
    "    ax.plot(x, norm(mu, 1).pdf(x))\n",
    "\n",
    "overplot_model(mu=4.9)"
   ]
  },
  {
   "cell_type": "code",
   "execution_count": 4,
   "metadata": {
    "scrolled": false,
    "slideshow": {
     "slide_type": "slide"
    }
   },
   "outputs": [
    {
     "data": {
      "application/vnd.jupyter.widget-view+json": {
       "model_id": "c51abe675f3f4eb49a0ed9b33b79d49f",
       "version_major": 2,
       "version_minor": 0
      },
      "text/plain": [
       "interactive(children=(FloatSlider(value=4.5, description='mu', max=8.0, min=2.0), Output()), _dom_classes=('wi…"
      ]
     },
     "metadata": {},
     "output_type": "display_data"
    }
   ],
   "source": [
    "import ipywidgets as widgets\n",
    "from ipywidgets import interact, fixed\n",
    "\n",
    "interact(overplot_model, mu=widgets.FloatSlider(min=2, max=8, step=0.1, value=4.5));"
   ]
  },
  {
   "cell_type": "markdown",
   "metadata": {
    "slideshow": {
     "slide_type": "slide"
    }
   },
   "source": [
    "How does the likelihood behave as we explore different potential values of $\\mu$?"
   ]
  },
  {
   "cell_type": "code",
   "execution_count": 5,
   "metadata": {
    "scrolled": false,
    "slideshow": {
     "slide_type": "-"
    }
   },
   "outputs": [
    {
     "data": {
      "application/vnd.jupyter.widget-view+json": {
       "model_id": "511f4cc9840749d38d2a0e745b9489c1",
       "version_major": 2,
       "version_minor": 0
      },
      "text/plain": [
       "interactive(children=(FloatSlider(value=4.5, description='mu', max=7.0, min=3.0), Output()), _dom_classes=('wi…"
      ]
     },
     "metadata": {},
     "output_type": "display_data"
    }
   ],
   "source": [
    "import ipywidgets as widgets\n",
    "from ipywidgets import interact, fixed\n",
    "\n",
    "def overplot_model_and_L(mu):\n",
    "    fig, (ax1, ax2) = plt.subplots(ncols=1, nrows=2, figsize=(12, 7.5))\n",
    "\n",
    "    ax1.hist(measurements, bins='fd', density=True);\n",
    "    x = np.linspace(2, 8, 1000)\n",
    "    ax1.plot(x, norm(mu, 1).pdf(x))\n",
    "    ax1.set_xlabel('$x$')\n",
    "    ax1.set_ylabel(r'$p_{\\rm histogram}(x)$')\n",
    "    ax1.set_xlim(2, 8)\n",
    "\n",
    "    #------------------------------------------------------------\n",
    "    # plot the likelihood distributions\n",
    "    mu_est = np.average(measurements)\n",
    "    L = lambda mu: np.prod( norm(measurements, 1).pdf(mu) )\n",
    "\n",
    "    L_mu = L(mu)\n",
    "    ax2.scatter([mu], [L_mu])\n",
    "\n",
    "    ax2.set_xlim(2, 8)\n",
    "    ax2.set_ylim(0, 1.1*L(mu_est))\n",
    "    ax2.set_xlabel('$\\mu$')\n",
    "    ax2.set_ylabel(r'$L(\\mu)$')\n",
    "\n",
    "interact(overplot_model_and_L, mu=widgets.FloatSlider(min=3, max=7, step=0.1, value=4.5));"
   ]
  },
  {
   "cell_type": "markdown",
   "metadata": {},
   "source": [
    "The above allows us to explore all values of $\\mu$ and find the maximum! "
   ]
  },
  {
   "cell_type": "markdown",
   "metadata": {
    "slideshow": {
     "slide_type": "slide"
    }
   },
   "source": [
    "### Finding the Maximum Analytically\n",
    "\n",
    "For practical (and some theoretical) reasons, it's better to work with the natural logarithm of the likelihood.\n",
    "\n",
    "We define the *log-likelihood function* as ${\\rm lnL} = \\ln[L(\\theta)]$.  The maximum of this function happens at the same place as the maximum of $L$. We therefore have:\n",
    "\n",
    "$${\\rm ln}\\,L = {\\rm constant} - \\sum_{i=1}^N \\frac{(x_i - \\mu)^2}{2\\sigma^2}.$$\n",
    "\n",
    "Take a second and make sure that you understand how we got there.  It might help to remember that above, we wrote:\n",
    "\n",
    "$$L(\\mu) = \\left( \\prod_{i=1}^n \\frac{1}{\\sigma\\sqrt{2\\pi}} \\right) \\exp\\left( -\\frac{1}{2} \\sum \\left[\\frac{(x_i-\\mu)}{\\sigma} \\right]^2 \\right).$$"
   ]
  },
  {
   "cell_type": "markdown",
   "metadata": {
    "slideshow": {
     "slide_type": "slide"
    }
   },
   "source": [
    "We then determine the maximum in the same way that we always do.  It is the parameter set for which the derivative of ${\\rm lnL}$ is zero:\n",
    "\n",
    "$$\\frac{d\\;{\\rm lnL}(\\mu)}{d\\mu}\\Biggr\\rvert_{\\hat \\mu} \\equiv 0.$$\n",
    "\n",
    "That gives $$ \\sum_{i=1}^N \\frac{x_i - \\hat \\mu}{\\sigma^2} = 0.$$\n",
    "\n",
    "(note: we should also check that the $2^{\\rm nd}$ derivative is negative, to ensure this is the *maximum* of $L$)\n",
    "\n",
    "(also note: any constants in $\\ln L$ disappear when differentiated, so constant terms can typically be ignored.)"
   ]
  },
  {
   "cell_type": "markdown",
   "metadata": {
    "slideshow": {
     "slide_type": "slide"
    }
   },
   "source": [
    "Since $\\sigma = {\\rm constant}$, that says \n",
    "\n",
    "$$\\sum_{i=1}^N x_i = \\sum_{i=1}^N \\hat \\mu = N \\hat \\mu.$$\n",
    "\n",
    "Thus we find that\n",
    "\n",
    "$$\\hat \\mu = \\frac{1}{N}\\sum_{i=1}^N x_i \\equiv \\bar x,$$\n",
    "\n",
    "which is just the arithmetic mean of all the measurements."
   ]
  },
  {
   "cell_type": "markdown",
   "metadata": {
    "slideshow": {
     "slide_type": "subslide"
    }
   },
   "source": [
    "### The Sample Mean is an ML Estimator\n",
    "\n",
    "We have now shown that the maximum-likelihood estimator for a normal distribution's $\\mu$ parameter (assuming fixed $\\sigma$) is just the arithmetic mean of all observations.\n",
    "\n",
    "Remember that the arithmetic mean was **defined** as:\n",
    "\n",
    "$$ \\bar x \\equiv \\mathbf{E}[\\hat h] $$\n",
    "\n",
    "and because:\n",
    "\n",
    "$$ \\mu = \\mathbf{E}[N(\\mu, \\sigma)] $$\n",
    "\n",
    "we **hoped** it would be a good estimator of $\\mu$.\n",
    "\n",
    "Now that we **know** that the arithmetic mean is actually a Maximum Likelihood (ML) estimator ***for a homoscedastic Gaussian*** with known errors, we **know** it has all of the good ML estimator properties."
   ]
  },
  {
   "cell_type": "markdown",
   "metadata": {
    "slideshow": {
     "slide_type": "slide"
    }
   },
   "source": [
    "### Properties of ML Estimators\n",
    "\n",
    "Assuming the data truly are drawn from the model, ML estimators have the following useful properties:\n",
    "\n",
    "* **They are consistent estimators**; that is, they can be proven to converge to the true parameter value as the number of data points increases.\n",
    "* **They are asymptotically normal estimators**. The distribution of the parameter estimate, as the number of data points increases to infinity, approaches a normal distribution, centered at the MLE, with a certain spread. This spread can often be easily calculated and used as a confidence band around the estimate, as discussed below.\n",
    "* **They asymptotically achieve the theoretical minimum possible variance, called the Cramér–Rao bound**. In other words, they achieve the best possible error given the data at hand; that is, no other estimator can do better in terms of efficiently using each data point to reduce the total error of the estimate (see eq. 3.33 in the textbook).\n",
    "\n",
    "Note: ML estimators are *not* guarenteed to be unbiased! Uncorrected standard deviation is the ML estimator for population standard deviation, yet as we've seen it's a biased estimator."
   ]
  },
  {
   "cell_type": "markdown",
   "metadata": {
    "slideshow": {
     "slide_type": "slide"
    }
   },
   "source": [
    "## Quantifying Estimate Uncertainty\n",
    "\n",
    "Let us look at what the full likelihood function looks like for our heteroscedastic Gaussian case:"
   ]
  },
  {
   "cell_type": "code",
   "execution_count": 6,
   "metadata": {
    "slideshow": {
     "slide_type": "slide"
    }
   },
   "outputs": [
    {
     "data": {
      "image/png": "[encoded data removed]",
      "text/plain": [
       "<Figure size 864x540 with 1 Axes>"
      ]
     },
     "metadata": {
      "needs_background": "light"
     },
     "output_type": "display_data"
    }
   ],
   "source": [
    "mu_est = np.average(measurements)\n",
    "mu_est_err = 1./np.sqrt(Nsamples)\n",
    "\n",
    "#------------------------------------------------------------\n",
    "L = lambda mu: np.prod( norm(measurements, 1).pdf(mu) )\n",
    "\n",
    "#------------------------------------------------------------\n",
    "# plot the likelihood distributions\n",
    "fig, ax = plt.subplots(figsize=(12, 7.5))\n",
    "mu = np.linspace(4, 6, 21)\n",
    "L_mu = np.vectorize(L)(mu)\n",
    "plt.scatter(mu, L_mu, c='black', label=r'$L(\\mu) \\equiv p(\\{x_i\\}|\\mu,\\sigma=1)$')\n",
    "\n",
    "# overplot the gaussian of the same width\n",
    "v = np.linspace(0, 10, 5000)\n",
    "C = L(mu_est) / norm(mu_est, mu_est_err).pdf(mu_est)\n",
    "plt.plot(v, C*norm(mu_est, mu_est_err).pdf(v), c='red', label=r'$\\propto N(\\mu=%.2f,\\ \\sigma=%.2f)$' % (mu_est, mu_est_err))\n",
    "plt.axvline(5)\n",
    "\n",
    "plt.xlim(4, 6)\n",
    "plt.ylim(0, 1.1*L(mu_est))\n",
    "plt.xlabel('$\\mu$')\n",
    "#plt.ylabel()\n",
    "plt.title('Likelihood of $\\mu$, given the measurement dataset $\\{x_i\\}$')\n",
    "\n",
    "# plot legend in the requested order (work around a matplot bug/feature)\n",
    "handles, labels = plt.gca().get_legend_handles_labels()\n",
    "order = [1, 0]\n",
    "plt.legend([handles[idx] for idx in order],[labels[idx] for idx in order]);"
   ]
  },
  {
   "cell_type": "markdown",
   "metadata": {
    "slideshow": {
     "slide_type": "slide"
    }
   },
   "source": [
    "This is just a Gaussian with the mean at $\\hat \\mu$ and standard deviation $\\frac{\\sigma}{\\sqrt N}$!\n",
    "\n",
    "Proof:\n",
    "\n",
    "$$L(\\mu) = \\left( \\prod_{i=1}^n \\frac{1}{\\sigma\\sqrt{2\\pi}} \\right) \\exp\\left( - \\frac{1}{2} \\sum \\left[\\frac{(x_i-\\mu)}{\\sigma} \\right]^2 \\right) \\propto \\exp\\left( - \\frac{1}{2\\sigma} \\sum (x_i-\\hat x + \\hat x  -\\mu)^2 \\right) =\\, ... $$\n",
    "$$ = \\exp\\left( - \\frac{N}{2\\sigma^2} \\sum (\\hat x  -\\mu)^2 \\right).$$\n",
    "\n",
    "It tells us how **relatively likely** any other value of $\\mu$ is. The $(\\hat \\mu - \\sigma_\\mu, \\hat \\mu + \\sigma_\\mu)$ range gives us a **confidence interval**. If we repeated the same measurement a hundred times, we'd find for 68 experiments the true value was within their computed confidence intervals ($1 \\sigma$ errors).\n",
    "\n",
    "Note: This also confirms that the standard error of the mean is equal to $\\frac{\\sigma}{\\sqrt N}$. I stated this previously when discussing the Central Limit Theorem, but now ***you*** *can prove this* starting with the expression for $L(\\mu)$ for the homoscedastic Gaussian model (after some straightforward but tedious manipulation of the sums under the exponential, above)."
   ]
  },
  {
   "cell_type": "markdown",
   "metadata": {
    "slideshow": {
     "slide_type": "slide"
    }
   },
   "source": [
    "## Generalizing the Quantification of Estimate Uncertainty\n",
    "\n",
    "For any likelihood distribution, with any number of parameters, we *define* the uncertainties on our MLEs as the second (partial) derivatives of the log-likelihood:\n",
    "\n",
    "$$\\sigma^{-2}_{jk} = - \\frac{d^2}{d\\theta_j} \\frac{\\ln L}{d\\theta_k} \\Biggr\\rvert_{\\theta=\\hat \\theta}$$\n",
    "\n",
    "Taken together, these entries are know as the **covariance matrix**.\n",
    "\n",
    "The marginal error bars for each parameter, $\\theta_i$ are given by the square roots of the diagonal elements, $\\sigma_{ii} = \\sigma^2_i$. These are the \"error bars\" that are typically quoted with each measurement."
   ]
  },
  {
   "cell_type": "markdown",
   "metadata": {
    "slideshow": {
     "slide_type": "slide"
    }
   },
   "source": [
    "For our Gaussian example: \n",
    "$$\\sigma_{\\mu} = \\left( - \\frac{d^2\\ln L(\\mu)}{d\\mu^2}\\Biggr\\rvert_{\\hat \\mu}\\right)^{-1/2}$$\n",
    "\n",
    "we find\n",
    "$$\\frac{d^2\\ln L(\\mu)}{d\\mu^2}\\Biggr\\rvert_{\\hat \\mu} = - \\sum_{i=1}^N\\frac{1}{\\sigma^2} = -\\frac{N}{\\sigma^2},$$\n",
    "since, again, $\\sigma = {\\rm constant}$. Therefore:\n",
    "\n",
    "$$\\sigma_{\\mu} = \\frac{\\sigma}{\\sqrt{N}}.$$\n",
    "\n",
    "So, our estimator of $\\mu$ is $\\overline{x}\\pm\\frac{\\sigma}{\\sqrt{N}}$ as discussed above."
   ]
  },
  {
   "cell_type": "markdown",
   "metadata": {
    "slideshow": {
     "slide_type": "slide"
    }
   },
   "source": [
    "### What is $\\pm \\sigma$? Interpretation as a Gaussian Approximation to the Likelihood Function\n",
    "\n",
    "The result for $\\sigma_{\\mu}$ has been derived by expanding $\\ln L$ in a Taylor series around the maximum and retaining terms up to second order (essentially, $\\ln L$ is approximated by a parabola, or an ellipsoidal surface in multidimensional cases, around its maximum). If this expansion is exact (as is the case for a Gaussian error distribution), then we've completely captured the uncertainty information.\n",
    "\n",
    "In general, this is not the case and the error bars give a ***Gaussian approximation*** to the actual likelihood surface. The true likelihood surface can significantly deviate from a smooth Gaussian shape. Furthermore, it often happens in practice that the likelihood surface is multimodal.\n",
    "\n",
    "It is always a good idea to visualize the likelihood surface when in doubt (see examples in §5.6 in the textbook)."
   ]
  },
  {
   "cell_type": "markdown",
   "metadata": {
    "slideshow": {
     "slide_type": "slide"
    }
   },
   "source": [
    "### MLE applied to a Heteroscedastic Gaussian\n",
    "\n",
    "Now let's look at a case where the errors are heteroscedastic.  For example, the weather is different each time we measure the position of our quasar, and therefore the astrometric uncertainty $\\sigma_i$ is different for each measurement, but still known. Since $\\sigma$ is not a constant, then following what we previously wrote, we have:\n",
    "\n",
    "$$\\ln L = {\\rm constant} - \\sum_{i=1}^N \\frac{(x_i - \\mu)^2}{2\\sigma_i^2}.$$\n",
    "\n",
    "Taking the derivative:\n",
    "$$\\frac{d\\;{\\rm lnL}(\\mu)}{d\\mu}\\Biggr\\rvert_{\\hat \\mu} = \\sum_{i=1}^N \\frac{(x_i - \\hat \\mu)}{\\sigma_i^2} = 0,$$\n",
    "then simplifying:\n",
    "\n",
    "$$\\sum_{i=1}^N \\frac{x_i}{\\sigma_i^2} = \\sum_{i=1}^N \\frac{\\hat \\mu}{\\sigma_i^2},$$\n",
    "\n",
    "yields a MLE solution of \n",
    "$$\\hat \\mu = \\frac{\\sum_i^N (x_i/\\sigma_i^2)}{\\sum_i^N (1/\\sigma_i^2)},$$\n",
    "\n",
    "with uncertainty\n",
    "$$\\sigma_{\\mu} = \\left( \\sum_{i=1}^N \\frac{1}{\\sigma_i^2}\\right)^{-1/2}.$$\n",
    "\n",
    "\n"
   ]
  },
  {
   "cell_type": "markdown",
   "metadata": {
    "slideshow": {
     "slide_type": "slide"
    }
   },
   "source": [
    "## Goodness of Fit\n",
    "\n",
    "The MLE approach tells us what the \"best\" model parameters are, but not how good the fit is in absolute terms.  If the model is wrong, \"best\" might not be particularly revealing !"
   ]
  },
  {
   "cell_type": "markdown",
   "metadata": {
    "slideshow": {
     "slide_type": "slide"
    }
   },
   "source": [
    "## Goodness of Fit and $\\chi^2$\n",
    "\n",
    "What does it mean that \"the fit is good\"? **We can quantify it by observing how likely it is we would draw a dataset with this particular $\\ln L(\\hat \\mu)$, if the model is correct, and seeing whether that's very unlikely (in which case, the hypothesis is probably incorrect)**.\n",
    "\n",
    "We can define a quantity $\\chi^2$:\n",
    "\n",
    "$$\\chi^2 \\equiv \\sum_{i=1}^N \\left({x_i-\\mu \\over \\sigma_i}\\right)^2,$$\n",
    "\n",
    "and then for the Gaussian case we've been studying we obtain:\n",
    "\n",
    "$$\\ln L = {\\rm constant} - \\frac{1}{2}\\sum_{i=1}^N z^2 = {\\rm constant} - \\frac{1}{2}\\chi^2.$$\n",
    "\n",
    "Note that there's a 1:1 relationship between the $\\chi^2$ and $\\ln L$. We can therefore also look at how likely is it that a particular $\\chi^2$ would occur when drawing a sample. (this is how it's traditionally done, and has a few other benefits)."
   ]
  },
  {
   "cell_type": "markdown",
   "metadata": {
    "slideshow": {
     "slide_type": "slide"
    }
   },
   "source": [
    "## The distribution of $\\chi^2$ values\n",
    "\n",
    "Let's compute the $\\chi^2$s for (say) $5,000$ samples of (say) 5 measurements, and see what the distribution looks like:"
   ]
  },
  {
   "cell_type": "code",
   "execution_count": 7,
   "metadata": {},
   "outputs": [
    {
     "data": {
      "text/plain": [
       "[<matplotlib.lines.Line2D at 0x7f94c12b0ad0>]"
      ]
     },
     "execution_count": 7,
     "metadata": {},
     "output_type": "execute_result"
    },
    {
     "data": {
      "image/png": "[encoded data removed]",
      "text/plain": [
       "<Figure size 864x540 with 1 Axes>"
      ]
     },
     "metadata": {
      "needs_background": "light"
     },
     "output_type": "display_data"
    }
   ],
   "source": [
    "%matplotlib inline\n",
    "import numpy as np\n",
    "from scipy.stats import norm\n",
    "from matplotlib import pyplot as plt\n",
    "\n",
    "from astroML.plotting import setup_text_plots\n",
    "setup_text_plots(fontsize=15, usetex=False)\n",
    "\n",
    "#------------------------------------------------------------\n",
    "np.random.seed(seed=42)\n",
    "Nsamples=5\n",
    "mu_true = 5.\n",
    "sigma = 1.\n",
    "\n",
    "Ndraws = 5000\n",
    "chi2vals = np.empty(Ndraws)\n",
    "\n",
    "for i in range(Ndraws):\n",
    "    measurements = np.random.normal(mu_true, sigma, Nsamples)\n",
    "    mu_est = np.average(measurements)\n",
    "    chi2vals[i] = np.sum(np.square((measurements - mu_est) / sigma))\n",
    "\n",
    "fig, ax = plt.subplots(figsize=(12, 7.5))\n",
    "ax.hist(chi2vals, bins='fd', density=True);\n",
    "\n",
    "from scipy.stats import chi2\n",
    "v = np.linspace(*ax.get_xlim(), 1000)\n",
    "ax.plot(v, chi2.pdf(v, Nsamples - 1))"
   ]
  },
  {
   "cell_type": "markdown",
   "metadata": {
    "slideshow": {
     "slide_type": "-"
    }
   },
   "source": [
    "Our computed $\\chi^2$ values are distributed as the **$\\chi^2$ distribution (with $k=N-N_{par}$ degrees of freedom).**\n",
    "\n",
    "The *number of degrees of freedom*, $k$ is given by the number of data points, $N$, minus any constraints (the number of model parameters, $N_{par}$). Given those two, the $\\chi^2$ distribution is defined by:\n",
    "\n",
    "$$p(Q \\mid k)\\equiv \\chi^2(Q \\mid k) = \\frac{1}{2^{k/2}\\Gamma(k/2)}Q^{k/2-1}\\exp(-Q/2),$$\n",
    "\n",
    "where $Q \\equiv \\chi^2 >0$. Note that the $\\Gamma$ function would just be the usual factorial function if we were dealing with integers, but here we have half integers.\n",
    "\n",
    "This is ugly, but it is really just a formula like anything else.  Note that the shape of the distribution *only* depends on the sample size $N=N-N_{par}$ and not on either $\\mu$ or $\\sigma$!"
   ]
  },
  {
   "cell_type": "markdown",
   "metadata": {
    "slideshow": {
     "slide_type": "slide"
    }
   },
   "source": [
    "## Testing for goodness of fit\n",
    "\n",
    "The main idea is to see how probable is it that, if this is the correct model, our particular value of $\\chi^2$ would arise. If the probability is low (discuss: how low?), we may need to rethink our hypothesis.\n",
    "\n",
    "Example: we now draw a sample from a uniform distribution, but still assume it's just a single value + Gaussian errors:"
   ]
  },
  {
   "cell_type": "code",
   "execution_count": 8,
   "metadata": {
    "slideshow": {
     "slide_type": "slide"
    }
   },
   "outputs": [
    {
     "name": "stdout",
     "output_type": "stream",
     "text": [
      "χ^2(uniform sample) = 1.796\n"
     ]
    },
    {
     "data": {
      "text/plain": [
       "<matplotlib.lines.Line2D at 0x7f94f21cf9d0>"
      ]
     },
     "execution_count": 8,
     "metadata": {},
     "output_type": "execute_result"
    },
    {
     "data": {
      "image/png": "[encoded data removed]",
      "text/plain": [
       "<Figure size 864x540 with 1 Axes>"
      ]
     },
     "metadata": {
      "needs_background": "light"
     },
     "output_type": "display_data"
    }
   ],
   "source": [
    "%matplotlib inline\n",
    "import numpy as np\n",
    "from scipy.stats import norm\n",
    "from matplotlib import pyplot as plt\n",
    "\n",
    "from astroML.plotting import setup_text_plots\n",
    "setup_text_plots(fontsize=15, usetex=False)\n",
    "\n",
    "#------------------------------------------------------------\n",
    "np.random.seed(seed=42)\n",
    "Nsamples=5\n",
    "mu_true = 5.\n",
    "sigma = 1.\n",
    "\n",
    "Ndraws = 5000\n",
    "chi2vals = np.empty(Ndraws)\n",
    "\n",
    "for i in range(Ndraws):\n",
    "    measurements = np.random.normal(mu_true, sigma, Nsamples)\n",
    "    mu_est = np.average(measurements)\n",
    "    chi2vals[i] = np.sum(np.square((measurements - mu_est) / sigma))\n",
    "\n",
    "fig, ax = plt.subplots(figsize=(12, 7.5))\n",
    "ax.hist(chi2vals, bins='fd', density=True);\n",
    "\n",
    "from scipy.stats import chi2\n",
    "v = np.linspace(*ax.get_xlim(), 1000)\n",
    "ax.plot(v, chi2.pdf(v, Nsamples - 1))\n",
    "\n",
    "# Test with a sample _not_ drawn from the gaussian model (say, uniform)\n",
    "measurements = np.random.uniform(mu_true - sigma, mu_true + sigma, Nsamples)\n",
    "mu_est = np.average(measurements)\n",
    "chi2uni = np.sum(np.square((measurements - mu_est) / sigma))\n",
    "print(\"χ^2(uniform sample) = %.3f\" % chi2uni)\n",
    "ax.axvline(chi2uni, color='red')"
   ]
  },
  {
   "cell_type": "markdown",
   "metadata": {
    "slideshow": {
     "slide_type": "slide"
    }
   },
   "source": [
    "Let's play with this a bit more..."
   ]
  },
  {
   "cell_type": "code",
   "execution_count": 9,
   "metadata": {
    "scrolled": false,
    "slideshow": {
     "slide_type": "-"
    }
   },
   "outputs": [
    {
     "data": {
      "application/vnd.jupyter.widget-view+json": {
       "model_id": "a51a2cf2f54241f6ae05bfc4046898a8",
       "version_major": 2,
       "version_minor": 0
      },
      "text/plain": [
       "interactive(children=(IntSlider(value=5, continuous_update=False, description='Nsamples', max=500, min=2), Flo…"
      ]
     },
     "metadata": {},
     "output_type": "display_data"
    }
   ],
   "source": [
    "%matplotlib inline\n",
    "import numpy as np\n",
    "from scipy.stats import norm\n",
    "from matplotlib import pyplot as plt\n",
    "\n",
    "from astroML.plotting import setup_text_plots\n",
    "setup_text_plots(fontsize=15, usetex=False)\n",
    "\n",
    "#------------------------------------------------------------\n",
    "np.random.seed(seed=42)\n",
    "Nsamples=5\n",
    "mu_true = 5.\n",
    "sigma = 1.\n",
    "\n",
    "import ipywidgets as widgets\n",
    "from ipywidgets import interact, fixed\n",
    "\n",
    "def make_chi2_plot(Nsamples, mu_true, sigma):\n",
    "    Ndraws = 5000\n",
    "    chi2vals = np.empty(Ndraws)\n",
    "\n",
    "    for i in range(Ndraws):\n",
    "        measurements = np.random.normal(mu_true, sigma, Nsamples)\n",
    "        mu_est = np.average(measurements)\n",
    "        chi2vals[i] = np.sum(np.square((measurements - mu_est) / sigma))\n",
    "\n",
    "    fig, ax = plt.subplots(figsize=(12, 7.5))\n",
    "    ax.hist(chi2vals, bins='fd', density=True);\n",
    "\n",
    "    from scipy.stats import chi2\n",
    "    v = np.linspace(*ax.get_xlim(), 1000)\n",
    "    c = chi2.pdf(v, Nsamples - 1)\n",
    "    ax.plot(v, c)\n",
    "    \n",
    "    # Test with a sample _not_ drawn from the gaussian model (say, uniform)\n",
    "    measurements = np.random.uniform(mu_true - sigma, mu_true + sigma, Nsamples)\n",
    "    mu_est = np.average(measurements)\n",
    "    chi2uni = np.sum(np.square((measurements - mu_est) / sigma))\n",
    "    print(\"χ^2(uniform sample) = %.3f\" % chi2uni)\n",
    "    ax.axvline(chi2uni, color='red')\n",
    "\n",
    "    ax.set_xlim(chi2.ppf(0.001, Nsamples - 1), chi2.ppf(0.999, Nsamples - 1))\n",
    "    ax.set_ylim(0, 1.1*c.max())\n",
    "\n",
    "\n",
    "interact(make_chi2_plot,\n",
    "         Nsamples=widgets.IntSlider(min=2, max=500, step=1, value=5, continuous_update=False),\n",
    "         mu_true=widgets.FloatSlider(min=0, max=10, step=1, value=5, continuous_update=False),\n",
    "         sigma=widgets.FloatSlider(min=0.1, max=6, step=0.1, value=1, continuous_update=False),\n",
    "        );"
   ]
  },
  {
   "cell_type": "markdown",
   "metadata": {},
   "source": [
    "Note that:\n",
    "* For small `Nsamples`, it's difficult to accept the hypothesis that the uniform has not been drawn from our model\n",
    "* The shape of the distribution is independent of $\\mu$ and $\\sigma$\n",
    "* The more samples there are (larger `Nsamples`), the more the $\\chi^2$ distribution looks like a Gaussian!"
   ]
  },
  {
   "cell_type": "markdown",
   "metadata": {
    "scrolled": false,
    "slideshow": {
     "slide_type": "slide"
    }
   },
   "source": [
    "### Gaussian Approximation: $\\chi^2$ per degree of freedom\n",
    "\n",
    "For large $k$ (say, $k > 100$ or so), $\\chi^2$-distribution becomes well approximated by the Normal distribution (Gaussian):\n",
    "\n",
    "$$ p(\\chi^2 \\mid k) \\sim N(\\chi^2 \\mid k, \\sqrt{2k}) $$\n",
    "\n",
    "In practice we frequently divide $\\chi^2$ by the number of degrees of freedom, and work with:\n",
    "\n",
    "$$\\chi^2_{dof} = \\frac{1}{N-N_{par}} \\sum_{i=1}^N \\left(\\frac{x_i-\\overline{x}}{\\sigma}\\right)^2$$\n",
    "\n",
    "which is distributed as\n",
    "\n",
    "$$ p(\\chi^2_{dof}) \\sim N\\left(\\chi^2_{dof} \\rvert 1, \\sqrt{\\frac{2}{N-N_{par}}}\\right) $$\n",
    "\n",
    "(where $k = N-N_{par}$). Therefore, we expect $\\chi^2_{dof}$ to be equal to 1, to within a few $\\sqrt{\\frac{2}{N-N_{par}}}$."
   ]
  },
  {
   "cell_type": "markdown",
   "metadata": {
    "slideshow": {
     "slide_type": "slide"
    }
   },
   "source": [
    "### Exploring the Gaussian approximation\n",
    "\n"
   ]
  },
  {
   "cell_type": "code",
   "execution_count": 10,
   "metadata": {
    "scrolled": false
   },
   "outputs": [
    {
     "data": {
      "application/vnd.jupyter.widget-view+json": {
       "model_id": "18ef5a486e5645f289127fdac5102bdb",
       "version_major": 2,
       "version_minor": 0
      },
      "text/plain": [
       "interactive(children=(IntSlider(value=5, continuous_update=False, description='Nsamples', max=1000, min=2), Fl…"
      ]
     },
     "metadata": {},
     "output_type": "display_data"
    }
   ],
   "source": [
    "%matplotlib inline\n",
    "import numpy as np\n",
    "from scipy.stats import norm\n",
    "from matplotlib import pyplot as plt\n",
    "\n",
    "from astroML.plotting import setup_text_plots\n",
    "setup_text_plots(fontsize=15, usetex=False)\n",
    "\n",
    "#------------------------------------------------------------\n",
    "np.random.seed(seed=42)\n",
    "Nsamples=5\n",
    "mu_true = 5.\n",
    "sigma = 1.\n",
    "\n",
    "import ipywidgets as widgets\n",
    "from ipywidgets import interact, fixed\n",
    "\n",
    "def make_chi2_plot(Nsamples, mu_true, sigma):\n",
    "    Ndraws = 5000\n",
    "    chi2vals = np.empty(Ndraws)\n",
    "\n",
    "    for i in range(Ndraws):\n",
    "        measurements = np.random.normal(mu_true, sigma, Nsamples)\n",
    "        mu_est = np.average(measurements)\n",
    "        chi2vals[i] = np.sum(np.square((measurements - mu_est) / sigma))\n",
    "\n",
    "    fig, ax = plt.subplots(figsize=(12, 7.5))\n",
    "    ax.hist(chi2vals, bins='fd', density=True);\n",
    "\n",
    "    from scipy.stats import chi2\n",
    "    v = np.linspace(*ax.get_xlim(), 1000)\n",
    "    c = chi2.pdf(v, Nsamples - 1)\n",
    "    ax.plot(v, c, label=r'$\\chi^2(k)$')\n",
    "\n",
    "    g = norm(Nsamples - 1, np.sqrt(2*(Nsamples - 1))).pdf(v)\n",
    "    ax.plot(v, g, color='gray', label=r'$N(k, \\sqrt{2k})$ approximation')\n",
    "    \n",
    "    # Test with a sample _not_ drawn from the gaussian model (say, uniform)\n",
    "    measurements = np.random.uniform(mu_true - sigma, mu_true + sigma, Nsamples)\n",
    "    mu_est = np.average(measurements)\n",
    "    chi2uni = np.sum(np.square((measurements - mu_est) / sigma))\n",
    "    print(\"χ^2(uniform sample) = %.3f\" % chi2uni)\n",
    "    ax.axvline(chi2uni, color='red')\n",
    "\n",
    "    ax.set_xlim(chi2.ppf(0.001, Nsamples - 1), chi2.ppf(0.999, Nsamples - 1))\n",
    "    ax.set_ylim(0, 1.1*c.max())\n",
    "\n",
    "    ax.legend()\n",
    "\n",
    "\n",
    "interact(make_chi2_plot,\n",
    "         Nsamples=widgets.IntSlider(min=2, max=1000, step=1, value=5, continuous_update=False),\n",
    "         mu_true=widgets.FloatSlider(min=0, max=10, step=1, value=5, continuous_update=False),\n",
    "         sigma=widgets.FloatSlider(min=0.1, max=6, step=0.1, value=1, continuous_update=False),\n",
    "        );"
   ]
  },
  {
   "cell_type": "markdown",
   "metadata": {
    "slideshow": {
     "slide_type": "slide"
    }
   },
   "source": [
    "## Goodness of Fit: An Example\n",
    "\n",
    "Physically, \"not using the correct model\" may come either from the object, or the misunderstanding of our measurement apparatus. For example, we can also get overly high or low values of $\\chi^2_{dof}$ if our errors are under- or over-estimated.\n",
    "\n",
    "<img src=\"http://www.astroml.org/_images/fig_chi2_eval_1.png\" width=800>"
   ]
  },
  {
   "cell_type": "markdown",
   "metadata": {
    "slideshow": {
     "slide_type": "slide"
    }
   },
   "source": [
    "## Summary\n",
    "\n",
    "So now, given a model, we have a prescription for:\n",
    "\n",
    "* Estimating its parameters (write the likelihood, find the maximum)\n",
    "* Estimating the (approximate) error bars (inverse derivatives of the log likelihood)\n",
    "* Assessing the goodness of fit (compare the obtained vs expected $\\chi^2$)\n",
    "\n",
    "and this is universally applicable (Gauss, Cauchy, Poisson, etc..), though analytically soluble only for a few distributions (e.g., Gauss)."
   ]
  },
  {
   "cell_type": "markdown",
   "metadata": {
    "slideshow": {
     "slide_type": "slide"
    }
   },
   "source": [
    "### Truncated/Censored Data and Other Cost Functions\n",
    "\n",
    "Note that dealing with missing data points (\"censored data\") adds complications that we don't have time to get into here, but see Textbook 4.2.7  Also maximum likelihood is just one possible \"cost function\", see Textbook, 4.2.8. "
   ]
  },
  {
   "cell_type": "markdown",
   "metadata": {
    "slideshow": {
     "slide_type": "slide"
    }
   },
   "source": [
    "### Next time:\n",
    "\n",
    "* Least-Squares as a Maximum Likelihood problem\n",
    "* Optimal photometry as a Maximum Likelihood problem\n",
    "* Confidence Estimates, particularly Bootstrap and Jackknife error estimates (Textbook $\\S$4.5)\n",
    "* Hypothesis testing (Textbook $\\S$4.7)"
   ]
  }
 ],
 "metadata": {
  "anaconda-cloud": {},
  "celltoolbar": "Slideshow",
  "kernelspec": {
   "display_name": "Python 3",
   "language": "python",
   "name": "python3"
  },
  "language_info": {
   "codemirror_mode": {
    "name": "ipython",
    "version": 3
   },
   "file_extension": ".py",
   "mimetype": "text/x-python",
   "name": "python",
   "nbconvert_exporter": "python",
   "pygments_lexer": "ipython3",
   "version": "3.7.6"
  },
  "livereveal": {
   "scroll": true,
   "start_slideshow_at": "selected",
   "theme": "sky"
  }
 },
 "nbformat": 4,
 "nbformat_minor": 4
}
